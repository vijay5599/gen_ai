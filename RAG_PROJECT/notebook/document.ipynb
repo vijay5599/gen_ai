{
 "cells": [
  {
   "cell_type": "code",
   "execution_count": null,
   "id": "5317902d",
   "metadata": {},
   "outputs": [],
   "source": []
  },
  {
   "cell_type": "markdown",
   "id": "dbe0a2ce",
   "metadata": {},
   "source": [
    "### Data Ingestion\n"
   ]
  }
 ],
 "metadata": {
  "kernelspec": {
   "display_name": ".venv",
   "language": "python",
   "name": "python3"
  },
  "language_info": {
   "name": "python",
   "version": "3.12.0"
  }
 },
 "nbformat": 4,
 "nbformat_minor": 5
}
